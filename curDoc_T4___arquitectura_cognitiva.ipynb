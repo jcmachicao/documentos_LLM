{
  "nbformat": 4,
  "nbformat_minor": 0,
  "metadata": {
    "colab": {
      "provenance": [],
      "authorship_tag": "ABX9TyNyL3GFZgteXg9CKoNUceXD",
      "include_colab_link": true
    },
    "kernelspec": {
      "name": "python3",
      "display_name": "Python 3"
    },
    "language_info": {
      "name": "python"
    }
  },
  "cells": [
    {
      "cell_type": "markdown",
      "metadata": {
        "id": "view-in-github",
        "colab_type": "text"
      },
      "source": [
        "<a href=\"https://colab.research.google.com/github/jcmachicao/documentos_LLM/blob/main/curDoc_T4___arquitectura_cognitiva.ipynb\" target=\"_parent\"><img src=\"https://colab.research.google.com/assets/colab-badge.svg\" alt=\"Open In Colab\"/></a>"
      ]
    },
    {
      "cell_type": "code",
      "source": [
        "import json\n",
        "import datetime"
      ],
      "metadata": {
        "id": "EuL0R86CD3Av"
      },
      "execution_count": null,
      "outputs": []
    },
    {
      "cell_type": "code",
      "source": [
        "# Funciones de manejo de memoria\n",
        "def load_memory(file_path):\n",
        "    try:\n",
        "        with open(file_path, 'r') as file:\n",
        "            return json.load(file)\n",
        "    except FileNotFoundError:\n",
        "        return {\n",
        "            \"evaluations\": [],\n",
        "            \"base_text\": \"Texto base inicial\",\n",
        "            \"high_level_criteria\": [\n",
        "                \"Criterio 1\",\n",
        "                \"Criterio 2\"\n",
        "                # más criterios de alto nivel\n",
        "            ]\n",
        "        }\n",
        "\n",
        "def save_memory(file_path, data):\n",
        "    with open(file_path, 'w') as file:\n",
        "        json.dump(data, file, indent=4)\n",
        "\n",
        "# Funciones de evaluación\n",
        "def evaluate_consistency(message, base_text):\n",
        "    score = 8  # Valor ficticio\n",
        "    justification = \"Coherente con el texto base\"\n",
        "    return score, justification\n",
        "\n",
        "def evaluate_innovation(message, high_level_criteria):\n",
        "    score = 7  # Valor ficticio\n",
        "    justification = \"Introduce una perspectiva nueva\"\n",
        "    return score, justification\n",
        "\n",
        "def analyze_sentiment(message):\n",
        "    return \"positive\" if \"bueno\" in message else \"neutral\"\n",
        "\n",
        "def metacognitive_monitoring(evaluations):\n",
        "    inconsistencies = [eval for eval in evaluations if eval['consistency_score'] < 5]\n",
        "    if len(inconsistencies) > len(evaluations) * 0.3:\n",
        "        print(\"Ajuste necesario en los criterios de evaluación.\")\n",
        "    return evaluations"
      ],
      "metadata": {
        "id": "_hxcLhbiD7zR"
      },
      "execution_count": null,
      "outputs": []
    },
    {
      "cell_type": "code",
      "execution_count": null,
      "metadata": {
        "id": "fc8uRSsRD1WP"
      },
      "outputs": [],
      "source": [
        "# Configuración inicial\n",
        "memory_file = 'evaluations_memory.json'\n",
        "memory = load_memory(memory_file)\n",
        "\n",
        "batches = [\n",
        "    {\n",
        "        \"batch_id\": \"001\",\n",
        "        \"messages\": [\n",
        "            {\"message_id\": \"msg001\", \"content\": \"Idea 1\"},\n",
        "            {\"message_id\": \"msg002\", \"content\": \"Idea 2\"}\n",
        "            # más mensajes\n",
        "        ]\n",
        "    }\n",
        "    # más batches\n",
        "]\n",
        "\n",
        "# Evaluación de batches\n",
        "for batch in batches:\n",
        "    batch_id = batch['batch_id']\n",
        "    for message in batch['messages']:\n",
        "        message_id = message['message_id']\n",
        "        content = message['content']\n",
        "\n",
        "        consistency_score, consistency_justification = evaluate_consistency(content, memory['base_text'])\n",
        "        innovation_score, innovation_justification = evaluate_innovation(content, memory['high_level_criteria'])\n",
        "\n",
        "        sentiment = analyze_sentiment(content)\n",
        "\n",
        "        evaluation = {\n",
        "            \"message_id\": message_id,\n",
        "            \"content\": content,\n",
        "            \"consistency_score\": consistency_score,\n",
        "            \"consistency_justification\": consistency_justification,\n",
        "            \"innovation_score\": innovation_score,\n",
        "            \"innovation_justification\": innovation_justification,\n",
        "            \"sentiment\": sentiment\n",
        "        }\n",
        "\n",
        "        memory['evaluations'].append({\n",
        "            \"batch_id\": batch_id,\n",
        "            \"messages\": [evaluation],\n",
        "            \"timestamp\": datetime.datetime.now().strftime(\"%Y-%m-%d %H:%M:%S\")\n",
        "        })\n",
        "\n",
        "    save_memory(memory_file, memory)\n",
        "\n",
        "evaluations = metacognitive_monitoring(memory['evaluations'])\n",
        "\n",
        "print(\"Evaluaciones completadas y guardadas.\")"
      ]
    }
  ]
}
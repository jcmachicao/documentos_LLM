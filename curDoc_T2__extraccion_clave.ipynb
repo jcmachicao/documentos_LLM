{
  "nbformat": 4,
  "nbformat_minor": 0,
  "metadata": {
    "colab": {
      "provenance": [],
      "authorship_tag": "ABX9TyOugJ9l6AGkPGKMz01VA9Du",
      "include_colab_link": true
    },
    "kernelspec": {
      "name": "python3",
      "display_name": "Python 3"
    },
    "language_info": {
      "name": "python"
    }
  },
  "cells": [
    {
      "cell_type": "markdown",
      "metadata": {
        "id": "view-in-github",
        "colab_type": "text"
      },
      "source": [
        "<a href=\"https://colab.research.google.com/github/jcmachicao/documentos_LLM/blob/main/cur_DocsT2.ipynb\" target=\"_parent\"><img src=\"https://colab.research.google.com/assets/colab-badge.svg\" alt=\"Open In Colab\"/></a>"
      ]
    },
    {
      "cell_type": "code",
      "source": [
        "!pip install openai"
      ],
      "metadata": {
        "colab": {
          "base_uri": "https://localhost:8080/"
        },
        "id": "RAN_qCtubJHh",
        "outputId": "900a9feb-6837-44e3-ccd3-144de633d29c"
      },
      "execution_count": 2,
      "outputs": [
        {
          "output_type": "stream",
          "name": "stdout",
          "text": [
            "Collecting openai\n",
            "  Downloading openai-1.35.15-py3-none-any.whl (328 kB)\n",
            "\u001b[2K     \u001b[90m━━━━━━━━━━━━━━━━━━━━━━━━━━━━━━━━━━━━━━━━\u001b[0m \u001b[32m328.6/328.6 kB\u001b[0m \u001b[31m4.5 MB/s\u001b[0m eta \u001b[36m0:00:00\u001b[0m\n",
            "\u001b[?25hRequirement already satisfied: anyio<5,>=3.5.0 in /usr/local/lib/python3.10/dist-packages (from openai) (3.7.1)\n",
            "Requirement already satisfied: distro<2,>=1.7.0 in /usr/lib/python3/dist-packages (from openai) (1.7.0)\n",
            "Collecting httpx<1,>=0.23.0 (from openai)\n",
            "  Downloading httpx-0.27.0-py3-none-any.whl (75 kB)\n",
            "\u001b[2K     \u001b[90m━━━━━━━━━━━━━━━━━━━━━━━━━━━━━━━━━━━━━━━━\u001b[0m \u001b[32m75.6/75.6 kB\u001b[0m \u001b[31m4.6 MB/s\u001b[0m eta \u001b[36m0:00:00\u001b[0m\n",
            "\u001b[?25hRequirement already satisfied: pydantic<3,>=1.9.0 in /usr/local/lib/python3.10/dist-packages (from openai) (2.8.2)\n",
            "Requirement already satisfied: sniffio in /usr/local/lib/python3.10/dist-packages (from openai) (1.3.1)\n",
            "Requirement already satisfied: tqdm>4 in /usr/local/lib/python3.10/dist-packages (from openai) (4.66.4)\n",
            "Requirement already satisfied: typing-extensions<5,>=4.7 in /usr/local/lib/python3.10/dist-packages (from openai) (4.12.2)\n",
            "Requirement already satisfied: idna>=2.8 in /usr/local/lib/python3.10/dist-packages (from anyio<5,>=3.5.0->openai) (3.7)\n",
            "Requirement already satisfied: exceptiongroup in /usr/local/lib/python3.10/dist-packages (from anyio<5,>=3.5.0->openai) (1.2.2)\n",
            "Requirement already satisfied: certifi in /usr/local/lib/python3.10/dist-packages (from httpx<1,>=0.23.0->openai) (2024.7.4)\n",
            "Collecting httpcore==1.* (from httpx<1,>=0.23.0->openai)\n",
            "  Downloading httpcore-1.0.5-py3-none-any.whl (77 kB)\n",
            "\u001b[2K     \u001b[90m━━━━━━━━━━━━━━━━━━━━━━━━━━━━━━━━━━━━━━━━\u001b[0m \u001b[32m77.9/77.9 kB\u001b[0m \u001b[31m6.2 MB/s\u001b[0m eta \u001b[36m0:00:00\u001b[0m\n",
            "\u001b[?25hCollecting h11<0.15,>=0.13 (from httpcore==1.*->httpx<1,>=0.23.0->openai)\n",
            "  Downloading h11-0.14.0-py3-none-any.whl (58 kB)\n",
            "\u001b[2K     \u001b[90m━━━━━━━━━━━━━━━━━━━━━━━━━━━━━━━━━━━━━━━━\u001b[0m \u001b[32m58.3/58.3 kB\u001b[0m \u001b[31m4.4 MB/s\u001b[0m eta \u001b[36m0:00:00\u001b[0m\n",
            "\u001b[?25hRequirement already satisfied: annotated-types>=0.4.0 in /usr/local/lib/python3.10/dist-packages (from pydantic<3,>=1.9.0->openai) (0.7.0)\n",
            "Requirement already satisfied: pydantic-core==2.20.1 in /usr/local/lib/python3.10/dist-packages (from pydantic<3,>=1.9.0->openai) (2.20.1)\n",
            "Installing collected packages: h11, httpcore, httpx, openai\n",
            "Successfully installed h11-0.14.0 httpcore-1.0.5 httpx-0.27.0 openai-1.35.15\n"
          ]
        }
      ]
    },
    {
      "cell_type": "code",
      "source": [
        "!pip install PyPDF2"
      ],
      "metadata": {
        "colab": {
          "base_uri": "https://localhost:8080/"
        },
        "id": "fiwrZsfAdIHz",
        "outputId": "233f31c9-a715-4fdc-c46a-893e09f4823e"
      },
      "execution_count": 8,
      "outputs": [
        {
          "output_type": "stream",
          "name": "stdout",
          "text": [
            "Collecting PyPDF2\n",
            "  Downloading pypdf2-3.0.1-py3-none-any.whl (232 kB)\n",
            "\u001b[2K     \u001b[90m━━━━━━━━━━━━━━━━━━━━━━━━━━━━━━━━━━━━━━━━\u001b[0m \u001b[32m232.6/232.6 kB\u001b[0m \u001b[31m4.7 MB/s\u001b[0m eta \u001b[36m0:00:00\u001b[0m\n",
            "\u001b[?25hInstalling collected packages: PyPDF2\n",
            "Successfully installed PyPDF2-3.0.1\n"
          ]
        }
      ]
    },
    {
      "cell_type": "code",
      "source": [
        "import openai\n",
        "import requests\n",
        "import io\n",
        "from PyPDF2 import PdfReader"
      ],
      "metadata": {
        "id": "1IXuCI2TbDaE"
      },
      "execution_count": 9,
      "outputs": []
    },
    {
      "cell_type": "code",
      "source": [
        "from google.colab import userdata\n",
        "OAI_APIKEY = userdata.get('OAIK_JCMV')\n",
        "openai.api_key = OAI_APIKEY\n",
        "from openai import OpenAI\n",
        "client = OpenAI(api_key=OAI_APIKEY)"
      ],
      "metadata": {
        "id": "vQAxFlMebSAB"
      },
      "execution_count": 21,
      "outputs": []
    },
    {
      "cell_type": "code",
      "source": [
        "url_texto = 'https://biblioteca.spda.org.pe/biblioteca/catalogo/_data/20210604182730_informe-tecnico-legal-pucusana-spda.pdf'"
      ],
      "metadata": {
        "id": "jWRAxt2ocueR"
      },
      "execution_count": 6,
      "outputs": []
    },
    {
      "cell_type": "code",
      "source": [
        "def obtener_texto_pdf_desde_url(url, pag_ini, pag_fin):\n",
        "    response = requests.get(url) # Descargar el PDF\n",
        "    if response.status_code != 200:\n",
        "        return \"Error al descargar el PDF\"\n",
        "\n",
        "    pdf_file = io.BytesIO(response.content) # Crear un objeto de tipo archivo en memoria\n",
        "    pdf_reader = PdfReader(pdf_file)     # Crear un objeto PdfReader\n",
        "    texto = \"\" # Extraer texto de todas las páginas\n",
        "    for pagina in pdf_reader.pages[pag_ini:pag_fin]:\n",
        "        texto += pagina.extract_text()\n",
        "    return texto\n",
        "\n",
        "texto_pdf = obtener_texto_pdf_desde_url(url_texto, 1, 40)\n",
        "print(texto_pdf[0:1000]) # Esto solo es la muestra del inicio del texto"
      ],
      "metadata": {
        "colab": {
          "base_uri": "https://localhost:8080/"
        },
        "id": "Ix-5Kw17dDH3",
        "outputId": "8902a194-eaf2-4d2b-9785-b3c7eda6a59c"
      },
      "execution_count": 12,
      "outputs": [
        {
          "output_type": "stream",
          "name": "stdout",
          "text": [
            "Edición: \n",
            "Sociedad Peruana de Derecho Ambiental\n",
            "Investigación y textos:\n",
            "José Bringas, Fabio Castagnino, Percy Grandez,  \n",
            "Ricardo Bandín y Bruno Monteferri.\n",
            "Corrección de estilo: \n",
            "Milagros Bustamante\n",
            "Diagramación:\n",
            "Arantxa Gonzalez\n",
            "Foto de portada:\n",
            "Andina / Difusión\n",
            "Se permite el uso de esta publicación siempre y cuando se cite \n",
            "correctamente su autoría.\n",
            "Sociedad Peruana de Derecho Ambiental\n",
            "Presidente: Jorge CaillauxDirectora ejecutiva: Isabel Calle Director de Gobernanza Marina: Bruno Monteferri Av. Prolongación Arenales 437, San Isidro, LimaTeléfono: (+51) 612-4700www.spda.org.pe\n",
            "Gobernanza Marina es una iniciativa de la SPDA que busca \n",
            "mejorar la gobernanza para la gestión de las pesquerías y la conservación de ecosistemas marinos en el Perú.\n",
            "Esta publicación es posible en el marco del proyecto “Hacia \n",
            "una gestión sostenible de las pesquerías a través de mejores regulaciones, aplicación de la ley y la transparencia en el Perú”, financiado por The Walton Family Foundation.Cita sugerid\n"
          ]
        }
      ]
    },
    {
      "cell_type": "code",
      "source": [
        "def extractos_importantes(texto):\n",
        "    requerimientos = f'''\n",
        "    Lee el siguiente texto y realiza estas tareas:\n",
        "    1. Extrae los 5 puntos clave más importantes.\n",
        "    2. Identifica los rubros temáticos universales o conceptuales aludidos\n",
        "    3. Identifica las controversias que alude el texto.\n",
        "\n",
        "    Texto:\n",
        "    {texto_pdf[0:2000]}\n",
        "    '''\n",
        "\n",
        "    response = client.chat.completions.create(\n",
        "        model=\"gpt-3.5-turbo\",\n",
        "        messages=[\n",
        "            {'role': 'system', 'content': 'Eres un experto en análisis de textos complejos.'},\n",
        "            {\"role\": \"user\", \"content\": requerimientos},\n",
        "            ],\n",
        "        temperature=0.7,\n",
        "        max_tokens=350,\n",
        "        top_p=1,\n",
        "        frequency_penalty=0,\n",
        "        presence_penalty=0\n",
        "      )\n",
        "    return response"
      ],
      "metadata": {
        "id": "XmAgc6jiej18"
      },
      "execution_count": 28,
      "outputs": []
    },
    {
      "cell_type": "code",
      "execution_count": 33,
      "metadata": {
        "id": "5pVteqy7a_NN"
      },
      "outputs": [],
      "source": [
        "# Ejemplo de uso\n",
        "resumen_y_puntos = extractos_importantes(texto_pdf)"
      ]
    },
    {
      "cell_type": "code",
      "source": [
        "print(resumen_y_puntos.choices[0].message.content)"
      ],
      "metadata": {
        "colab": {
          "base_uri": "https://localhost:8080/"
        },
        "id": "Mu45wkEnhutG",
        "outputId": "e6ae2ac1-dca7-43f6-f781-fd0e3a6c955a"
      },
      "execution_count": 44,
      "outputs": [
        {
          "output_type": "stream",
          "name": "stdout",
          "text": [
            "1. Puntos clave más importantes:\n",
            "- La Sociedad Peruana de Derecho Ambiental está involucrada en la iniciativa de Gobernanza Marina para mejorar la gestión de pesquerías y conservación de ecosistemas marinos en Perú.\n",
            "- Se menciona un proyecto financiado por The Walton Family Foundation que apunta a una gestión sostenible de las pesquerías en Perú.\n",
            "- Se hace referencia a un informe técnico-legal sobre la problemática ambiental de la bahía de Pucusana, elaborado por la SPDA.\n",
            "- Se presentan siglas y acrónimos relacionados con entidades y conceptos ambientales relevantes en el contexto peruano.\n",
            "- Se incluyen detalles de contacto y cita sugerida para la Sociedad Peruana de Derecho Ambiental.\n",
            "\n",
            "2. Rubros temáticos universales o conceptuales aludidos:\n",
            "- Derecho ambiental y gobernanza para la gestión sostenible de recursos naturales.\n",
            "- Conservación de ecosistemas marinos y pesquerías.\n",
            "- Financiamiento de proyectos ambientales por organizaciones externas.\n",
            "- Problemáticas ambientales específicas, como la contaminación en la bahía de Pucusana.\n",
            "- Importancia de la transparencia, regulaciones y aplicación de la ley en la gestión ambiental.\n",
            "\n",
            "3. Controversias aludidas en el texto:\n",
            "- No se identifican controversias explícitas en el texto proporcionado. Sin embargo, podría existir potencialmente controversias relacionadas con la gestión de recursos naturales, la aplicación de regulaciones ambientales, el financiamiento\n"
          ]
        }
      ]
    }
  ]
}

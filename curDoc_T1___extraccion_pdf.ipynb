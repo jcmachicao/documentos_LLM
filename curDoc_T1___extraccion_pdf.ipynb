{
  "nbformat": 4,
  "nbformat_minor": 0,
  "metadata": {
    "colab": {
      "provenance": [],
      "mount_file_id": "1NVGWXlvJmzf7oGSh30QqM_7bs6ilmBLm",
      "authorship_tag": "ABX9TyOOedDbr84A6O6EA2gLG0I2",
      "include_colab_link": true
    },
    "kernelspec": {
      "name": "python3",
      "display_name": "Python 3"
    },
    "language_info": {
      "name": "python"
    }
  },
  "cells": [
    {
      "cell_type": "markdown",
      "metadata": {
        "id": "view-in-github",
        "colab_type": "text"
      },
      "source": [
        "<a href=\"https://colab.research.google.com/github/jcmachicao/documentos_LLM/blob/main/curDocs_T1___extraccion_pdf.ipynb\" target=\"_parent\"><img src=\"https://colab.research.google.com/assets/colab-badge.svg\" alt=\"Open In Colab\"/></a>"
      ]
    },
    {
      "cell_type": "code",
      "source": [
        "!pip install PyPDF2"
      ],
      "metadata": {
        "colab": {
          "base_uri": "https://localhost:8080/"
        },
        "id": "T3yWOv4V5p9i",
        "outputId": "b2552f7b-ece8-4b4d-c25b-c6628b95ead5"
      },
      "execution_count": 1,
      "outputs": [
        {
          "output_type": "stream",
          "name": "stdout",
          "text": [
            "Collecting PyPDF2\n",
            "  Downloading pypdf2-3.0.1-py3-none-any.whl (232 kB)\n",
            "\u001b[2K     \u001b[90m━━━━━━━━━━━━━━━━━━━━━━━━━━━━━━━━━━━━━━━━\u001b[0m \u001b[32m232.6/232.6 kB\u001b[0m \u001b[31m3.8 MB/s\u001b[0m eta \u001b[36m0:00:00\u001b[0m\n",
            "\u001b[?25hInstalling collected packages: PyPDF2\n",
            "Successfully installed PyPDF2-3.0.1\n"
          ]
        }
      ]
    },
    {
      "cell_type": "code",
      "source": [
        "from PyPDF2 import PdfReader"
      ],
      "metadata": {
        "id": "dYtRRtiH5oQ-"
      },
      "execution_count": 2,
      "outputs": []
    },
    {
      "cell_type": "code",
      "source": [
        "ruta = 'drive/My Drive/00 2024_all/2024 Cursos/code Documentos LLM/'\n",
        "archivo = 'FA The leaning towers of Babel 2024.pdf'"
      ],
      "metadata": {
        "id": "V2ByN0Tv52_j"
      },
      "execution_count": 3,
      "outputs": []
    },
    {
      "cell_type": "code",
      "execution_count": 6,
      "metadata": {
        "colab": {
          "base_uri": "https://localhost:8080/"
        },
        "id": "ZEsecJRY4uZ2",
        "outputId": "cbfbea97-3d3f-476a-f007-12bc056bfd28"
      },
      "outputs": [
        {
          "output_type": "stream",
          "name": "stdout",
          "text": [
            "182 /f.sc/o.sc/r.sc/e.sc/i.sc/g.sc/n.sc /a.sc/f.sc/f.sc/a.sc/i.sc/r.sc/s.sc/r.sc/e.sc/v.sc/i.sc/e.sc/w.sc /e.sc/s.sc/s.sc/a.sc/y.sc\n",
            "The Leaning  \n",
            "Tower of Babel\n",
            "What We Lose When Languages Die\n",
            "/r.sc/o.sc/s.sc/s.sc /p.sc/e.sc/r.sc/l.sc/i.sc/n.sc\n",
            "A Myriad of Tongues: How Languages Reveal Differences in How We Think\n",
            "/B.sc/y.sc /C.sc/a.sc/l.sc/e.sc/b.sc /E.sc/v.sc/e.sc/r.sc/e.sc/t.sc/t.sc. Harvard University Press, 2023, 288 pp.\n",
            "The world’s 190-odd nation-\n",
            "states are home to 7,168 “living  \n",
            "language\n"
          ]
        }
      ],
      "source": [
        "reader = PdfReader(ruta + archivo)\n",
        "page = reader.pages[1]\n",
        "texto_extraido = page.extract_text()\n",
        "print(texto_extraido[0:500])"
      ]
    }
  ]
}

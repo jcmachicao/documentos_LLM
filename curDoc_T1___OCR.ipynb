{
  "nbformat": 4,
  "nbformat_minor": 0,
  "metadata": {
    "colab": {
      "provenance": [],
      "mount_file_id": "https://github.com/jcmachicao/documentos_LLM/blob/main/curDoc_T1___OCR.ipynb",
      "authorship_tag": "ABX9TyOWuoZYzUwY9PaqcOd6ZZPE",
      "include_colab_link": true
    },
    "kernelspec": {
      "name": "python3",
      "display_name": "Python 3"
    },
    "language_info": {
      "name": "python"
    }
  },
  "cells": [
    {
      "cell_type": "markdown",
      "metadata": {
        "id": "view-in-github",
        "colab_type": "text"
      },
      "source": [
        "<a href=\"https://colab.research.google.com/github/jcmachicao/documentos_LLM/blob/main/curDoc_T1___OCR.ipynb\" target=\"_parent\"><img src=\"https://colab.research.google.com/assets/colab-badge.svg\" alt=\"Open In Colab\"/></a>"
      ]
    },
    {
      "cell_type": "markdown",
      "source": [
        "## Instalaciones previas"
      ],
      "metadata": {
        "id": "n9k4M5MvGxr_"
      }
    },
    {
      "cell_type": "code",
      "source": [
        "!apt-get install poppler-utils"
      ],
      "metadata": {
        "colab": {
          "base_uri": "https://localhost:8080/"
        },
        "id": "NSVUm56LDrDE",
        "outputId": "a81ea076-0ee4-43b1-c445-5bbd06909e33"
      },
      "execution_count": 1,
      "outputs": [
        {
          "output_type": "stream",
          "name": "stdout",
          "text": [
            "Reading package lists... Done\n",
            "Building dependency tree... Done\n",
            "Reading state information... Done\n",
            "The following NEW packages will be installed:\n",
            "  poppler-utils\n",
            "0 upgraded, 1 newly installed, 0 to remove and 45 not upgraded.\n",
            "Need to get 186 kB of archives.\n",
            "After this operation, 696 kB of additional disk space will be used.\n",
            "Get:1 http://archive.ubuntu.com/ubuntu jammy-updates/main amd64 poppler-utils amd64 22.02.0-2ubuntu0.5 [186 kB]\n",
            "Fetched 186 kB in 1s (314 kB/s)\n",
            "Selecting previously unselected package poppler-utils.\n",
            "(Reading database ... 123594 files and directories currently installed.)\n",
            "Preparing to unpack .../poppler-utils_22.02.0-2ubuntu0.5_amd64.deb ...\n",
            "Unpacking poppler-utils (22.02.0-2ubuntu0.5) ...\n",
            "Setting up poppler-utils (22.02.0-2ubuntu0.5) ...\n",
            "Processing triggers for man-db (2.10.2-1) ...\n"
          ]
        }
      ]
    },
    {
      "cell_type": "code",
      "execution_count": 2,
      "metadata": {
        "colab": {
          "base_uri": "https://localhost:8080/"
        },
        "id": "VenS9nrIDNNh",
        "outputId": "83017cf2-0c36-471d-b5c7-fd00b9689f39"
      },
      "outputs": [
        {
          "output_type": "stream",
          "name": "stdout",
          "text": [
            "Collecting pdf2image\n",
            "  Downloading pdf2image-1.17.0-py3-none-any.whl.metadata (6.2 kB)\n",
            "Requirement already satisfied: pillow in /usr/local/lib/python3.10/dist-packages (from pdf2image) (9.4.0)\n",
            "Downloading pdf2image-1.17.0-py3-none-any.whl (11 kB)\n",
            "Installing collected packages: pdf2image\n",
            "Successfully installed pdf2image-1.17.0\n",
            "Collecting pytesseract\n",
            "  Downloading pytesseract-0.3.13-py3-none-any.whl.metadata (11 kB)\n",
            "Requirement already satisfied: packaging>=21.3 in /usr/local/lib/python3.10/dist-packages (from pytesseract) (24.1)\n",
            "Requirement already satisfied: Pillow>=8.0.0 in /usr/local/lib/python3.10/dist-packages (from pytesseract) (9.4.0)\n",
            "Downloading pytesseract-0.3.13-py3-none-any.whl (14 kB)\n",
            "Installing collected packages: pytesseract\n",
            "Successfully installed pytesseract-0.3.13\n",
            "Requirement already satisfied: pillow in /usr/local/lib/python3.10/dist-packages (9.4.0)\n"
          ]
        }
      ],
      "source": [
        "!pip install pdf2image\n",
        "!pip install pytesseract\n",
        "!pip install pillow"
      ]
    },
    {
      "cell_type": "code",
      "source": [
        "!apt-get install tesseract-ocr-spa"
      ],
      "metadata": {
        "colab": {
          "base_uri": "https://localhost:8080/"
        },
        "id": "C7-6gNFDEU3C",
        "outputId": "8fa9a0d9-e545-4a4b-88c2-bb0c3b3e00fb"
      },
      "execution_count": 3,
      "outputs": [
        {
          "output_type": "stream",
          "name": "stdout",
          "text": [
            "Reading package lists... Done\n",
            "Building dependency tree... Done\n",
            "Reading state information... Done\n",
            "The following additional packages will be installed:\n",
            "  tesseract-ocr tesseract-ocr-eng tesseract-ocr-osd\n",
            "The following NEW packages will be installed:\n",
            "  tesseract-ocr tesseract-ocr-eng tesseract-ocr-osd tesseract-ocr-spa\n",
            "0 upgraded, 4 newly installed, 0 to remove and 45 not upgraded.\n",
            "Need to get 5,768 kB of archives.\n",
            "After this operation, 17.9 MB of additional disk space will be used.\n",
            "Get:1 http://archive.ubuntu.com/ubuntu jammy/universe amd64 tesseract-ocr-eng all 1:4.00~git30-7274cfa-1.1 [1,591 kB]\n",
            "Get:2 http://archive.ubuntu.com/ubuntu jammy/universe amd64 tesseract-ocr-osd all 1:4.00~git30-7274cfa-1.1 [2,990 kB]\n",
            "Get:3 http://archive.ubuntu.com/ubuntu jammy/universe amd64 tesseract-ocr amd64 4.1.1-2.1build1 [236 kB]\n",
            "Get:4 http://archive.ubuntu.com/ubuntu jammy/universe amd64 tesseract-ocr-spa all 1:4.00~git30-7274cfa-1.1 [951 kB]\n",
            "Fetched 5,768 kB in 1s (6,658 kB/s)\n",
            "Selecting previously unselected package tesseract-ocr-eng.\n",
            "(Reading database ... 123624 files and directories currently installed.)\n",
            "Preparing to unpack .../tesseract-ocr-eng_1%3a4.00~git30-7274cfa-1.1_all.deb ...\n",
            "Unpacking tesseract-ocr-eng (1:4.00~git30-7274cfa-1.1) ...\n",
            "Selecting previously unselected package tesseract-ocr-osd.\n",
            "Preparing to unpack .../tesseract-ocr-osd_1%3a4.00~git30-7274cfa-1.1_all.deb ...\n",
            "Unpacking tesseract-ocr-osd (1:4.00~git30-7274cfa-1.1) ...\n",
            "Selecting previously unselected package tesseract-ocr.\n",
            "Preparing to unpack .../tesseract-ocr_4.1.1-2.1build1_amd64.deb ...\n",
            "Unpacking tesseract-ocr (4.1.1-2.1build1) ...\n",
            "Selecting previously unselected package tesseract-ocr-spa.\n",
            "Preparing to unpack .../tesseract-ocr-spa_1%3a4.00~git30-7274cfa-1.1_all.deb ...\n",
            "Unpacking tesseract-ocr-spa (1:4.00~git30-7274cfa-1.1) ...\n",
            "Setting up tesseract-ocr-eng (1:4.00~git30-7274cfa-1.1) ...\n",
            "Setting up tesseract-ocr-spa (1:4.00~git30-7274cfa-1.1) ...\n",
            "Setting up tesseract-ocr-osd (1:4.00~git30-7274cfa-1.1) ...\n",
            "Setting up tesseract-ocr (4.1.1-2.1build1) ...\n",
            "Processing triggers for man-db (2.10.2-1) ...\n"
          ]
        }
      ]
    },
    {
      "cell_type": "markdown",
      "source": [
        "## Código de conversión"
      ],
      "metadata": {
        "id": "A87XIgKaG1tt"
      }
    },
    {
      "cell_type": "code",
      "source": [
        "import pytesseract\n",
        "from pdf2image import convert_from_path\n",
        "import pandas as pd\n",
        "import os"
      ],
      "metadata": {
        "id": "qyceBV4nCNko"
      },
      "execution_count": 8,
      "outputs": []
    },
    {
      "cell_type": "code",
      "source": [
        "ruta = 'drive/My Drive/00 data 2024/'\n",
        "archivo = 'RNC Instalaciones Electricas y Mecanicas.pdf'"
      ],
      "metadata": {
        "id": "ufERQmhiCev4"
      },
      "execution_count": 5,
      "outputs": []
    },
    {
      "cell_type": "code",
      "source": [
        "pages = convert_from_path(ruta + archivo, 300)"
      ],
      "metadata": {
        "id": "3at11eVeDTfs"
      },
      "execution_count": 6,
      "outputs": []
    },
    {
      "cell_type": "code",
      "source": [
        "output_image_folder = ruta + 'temp_images/'\n",
        "os.makedirs(ruta + output_image_folder, exist_ok=True)"
      ],
      "metadata": {
        "id": "7V0TSuUZEfKc"
      },
      "execution_count": 7,
      "outputs": []
    },
    {
      "cell_type": "code",
      "source": [
        "output_text_path = ruta + 'texto_extraido_df.pkl'\n",
        "\n",
        "full_text = []\n",
        "for i, page in enumerate(pages):\n",
        "    image_path = output_image_folder + f'page_{i+1}.png'\n",
        "    page.save(image_path, 'PNG')\n",
        "    text = pytesseract.image_to_string(image_path, lang='spa')  # 'spa' para español\n",
        "    full_text.append([i, text])"
      ],
      "metadata": {
        "id": "UKyYrGO9FiHw"
      },
      "execution_count": null,
      "outputs": []
    },
    {
      "cell_type": "code",
      "source": [
        "full_text_df = pd.DataFrame(full_text, columns=['Page', 'Text'])\n",
        "full_text_df.to_pickle(output_text_path)\n",
        "print(f'Texto extraído guardado en {output_text_path}')"
      ],
      "metadata": {
        "id": "gDzqzwb7HH8t",
        "outputId": "520e2b6b-a4ae-4c23-88c7-dff7fc414961",
        "colab": {
          "base_uri": "https://localhost:8080/"
        }
      },
      "execution_count": 12,
      "outputs": [
        {
          "output_type": "stream",
          "name": "stdout",
          "text": [
            "Texto extraído guardado en drive/My Drive/00 data 2024/texto_extraido_df.pkl\n"
          ]
        }
      ]
    },
    {
      "cell_type": "code",
      "source": [
        "texto_pag = full_text_df[24:26].Text.values[0]\n",
        "print(texto_pag[0:1000])"
      ],
      "metadata": {
        "id": "9L8CuqxaHWIk",
        "outputId": "3bfad892-a11a-4059-b1e2-aa04ff80ce0f",
        "colab": {
          "base_uri": "https://localhost:8080/"
        }
      },
      "execution_count": 20,
      "outputs": [
        {
          "output_type": "stream",
          "name": "stdout",
          "text": [
            "REGLAMENTO NACIONAL DE EDIFICACIONES A\n",
            "\n",
            "d) Las estufas tipo B, no deberán instalarse en dormi-\n",
            "torios.\n",
            "\n",
            "5.2.7. Instalación de accesorios\n",
            "\n",
            "5.2.7.1. En la instalación de accesorios tales como fit-\n",
            "ting, codos, T de prueba, abrazaderas, llaves de paso, etc,\n",
            "se deberá tener en cuenta los requisitos establecidos en\n",
            "el presente Norma.\n",
            "\n",
            "5.2.7.2. Cuando se indique en el reglamento y las bue-\n",
            "nas prácticas de ingeniería lo aconsejen, en las instala-\n",
            "ciones de gas se deberán usar elementos de protección\n",
            "tales como: Válvulas de seguridad, válvulas de exceso de\n",
            "flujo, válvulas de retención, válvulas automáticas, regula-\n",
            "dores asociados, etc. En el caso de reguladores de se-\n",
            "gunda etapa que no estén asociados a medidores, podrá\n",
            "contemplarse un gabinete de protección exclusivo, cons-\n",
            "truido de material no combustible o con una resistencia al\n",
            "fuego correspondiente, a lo menos, a la clase F-120. En\n",
            "cualquier caso, los reguladores no deberán instalarse en\n",
            "interiores, a menos que se garantice el respect\n"
          ]
        }
      ]
    }
  ]
}
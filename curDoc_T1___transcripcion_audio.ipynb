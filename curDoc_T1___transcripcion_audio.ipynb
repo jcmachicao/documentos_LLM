{
  "nbformat": 4,
  "nbformat_minor": 0,
  "metadata": {
    "colab": {
      "provenance": [],
      "authorship_tag": "ABX9TyNZ3HAnZysuF+2CCHeo7AOp",
      "include_colab_link": true
    },
    "kernelspec": {
      "name": "python3",
      "display_name": "Python 3"
    },
    "language_info": {
      "name": "python"
    }
  },
  "cells": [
    {
      "cell_type": "markdown",
      "metadata": {
        "id": "view-in-github",
        "colab_type": "text"
      },
      "source": [
        "<a href=\"https://colab.research.google.com/github/jcmachicao/documentos_LLM/blob/main/curDoc_T1__transcripcion_audio.ipynb\" target=\"_parent\"><img src=\"https://colab.research.google.com/assets/colab-badge.svg\" alt=\"Open In Colab\"/></a>"
      ]
    },
    {
      "cell_type": "code",
      "source": [
        "import whisper"
      ],
      "metadata": {
        "id": "IBdfd4Oefn58"
      },
      "execution_count": null,
      "outputs": []
    },
    {
      "cell_type": "code",
      "source": [
        "ruta = 'drive/My Drive/'\n",
        "archivo_audio = 'entrevista.wav'"
      ],
      "metadata": {
        "id": "ag_2qZ6fgNm8"
      },
      "execution_count": null,
      "outputs": []
    },
    {
      "cell_type": "code",
      "source": [
        "model = whisper.load_model(\"base\")"
      ],
      "metadata": {
        "id": "BOluh4KqgXY5"
      },
      "execution_count": null,
      "outputs": []
    },
    {
      "cell_type": "code",
      "execution_count": null,
      "metadata": {
        "id": "tmUVwhUeE_vw"
      },
      "outputs": [],
      "source": [
        "audio_file = ruta + archivo_audio\n",
        "result = model.transcribe(audio_file)\n",
        "print('Texto Transcrito: ', result[\"text\"])"
      ]
    }
  ]
}

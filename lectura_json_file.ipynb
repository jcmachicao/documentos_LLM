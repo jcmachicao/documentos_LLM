{
  "cells": [
    {
      "cell_type": "markdown",
      "metadata": {
        "id": "view-in-github",
        "colab_type": "text"
      },
      "source": [
        "<a href=\"https://colab.research.google.com/github/jcmachicao/documentos_LLM/blob/main/lectura_json_file.ipynb\" target=\"_parent\"><img src=\"https://colab.research.google.com/assets/colab-badge.svg\" alt=\"Open In Colab\"/></a>"
      ]
    },
    {
      "cell_type": "code",
      "execution_count": null,
      "id": "6781a35d-1586-4369-8eeb-12cee8df0550",
      "metadata": {
        "tags": [],
        "id": "6781a35d-1586-4369-8eeb-12cee8df0550"
      },
      "outputs": [],
      "source": [
        "import json"
      ]
    },
    {
      "cell_type": "code",
      "execution_count": null,
      "id": "f74a795a-abd3-48cf-923e-272ee70c66fb",
      "metadata": {
        "tags": [],
        "id": "f74a795a-abd3-48cf-923e-272ee70c66fb"
      },
      "outputs": [],
      "source": [
        "with open('ejemplo_citasbib.json', 'r', encoding='UTF-8') as f:\n",
        "    data = json.load(f)"
      ]
    },
    {
      "cell_type": "code",
      "execution_count": null,
      "id": "6c9b6cc7-46ed-428d-9e5f-df84d0629f69",
      "metadata": {
        "tags": [],
        "id": "6c9b6cc7-46ed-428d-9e5f-df84d0629f69",
        "outputId": "c8c892bf-e1af-4e7e-de1a-3a5adede9353"
      },
      "outputs": [
        {
          "name": "stdout",
          "output_type": "stream",
          "text": [
            "Creación de Lista de Referencias Bibliográficas\n",
            "1.0\n",
            "\n",
            "\n",
            "id :  Paso1\n",
            "autor :  Humano\n",
            "instructivo :  Recopilar y listar los temas relevantes para la investigación o el documento.\n",
            "producto :  {'nombre': 'Lista de temas relevantes', 'descripcion': 'Documento que enumera y describe brevemente los temas clave que requieren referencias bibliográficas.'}\n",
            "\n",
            "\n",
            "id :  Paso2\n",
            "autor :  LLM\n",
            "instructivo :  Basándose en la lista de temas relevantes, recolectar fuentes potenciales para cada tema. Incluir títulos, autores y años de publicación.\n",
            "producto :  {'nombre': 'Lista inicial de fuentes', 'descripcion': 'Documento que contiene una compilación de fuentes potenciales para cada tema, incluyendo información básica de cada fuente.'}\n",
            "\n",
            "\n",
            "id :  Paso3\n",
            "autor :  LLM\n",
            "instructivo :  Utilizando bases de datos académicas, recolectar citas completas para las fuentes identificadas. Incluir todos los detalles necesarios como DOI, URL, etc.\n",
            "producto :  {'nombre': 'Citas completas recolectadas', 'descripcion': 'Documento con citas detalladas de cada fuente, incluyendo toda la información bibliográfica disponible.'}\n",
            "\n",
            "\n",
            "id :  Paso4\n",
            "autor :  Humano\n",
            "instructivo :  Revisar la consistencia y relevancia de las citas recolectadas. Verificar que todas las fuentes sean pertinentes y que la información esté completa.\n",
            "producto :  {'nombre': 'Informe de revisión de citas', 'descripcion': 'Documento que detalla la revisión realizada, incluyendo correcciones necesarias, fuentes a eliminar o añadir, y comentarios sobre la calidad de las citas.'}\n",
            "\n",
            "\n",
            "id :  Paso5\n",
            "autor :  LLM\n",
            "instructivo :  Transformar todas las citas revisadas al formato APA 7ma edición. Asegurar que cada cita cumpla con todas las reglas y convenciones de este estilo.\n",
            "producto :  {'nombre': 'Lista de referencias en formato APA 7', 'descripcion': 'Documento final con todas las referencias bibliográficas formateadas correctamente según el estilo APA 7ma edición, listas para ser incluidas en el trabajo académico.'}\n"
          ]
        }
      ],
      "source": [
        "print(data['nombre'])\n",
        "print(data['version'])\n",
        "\n",
        "for it in data['pasos']:\n",
        "    print('\\n')\n",
        "    for k in it.keys():\n",
        "        print(k, ': ', it[k])"
      ]
    },
    {
      "cell_type": "code",
      "execution_count": null,
      "id": "42c988e5-eb9c-480f-96c0-321adff03df1",
      "metadata": {
        "id": "42c988e5-eb9c-480f-96c0-321adff03df1"
      },
      "outputs": [],
      "source": []
    }
  ],
  "metadata": {
    "kernelspec": {
      "display_name": "Python 3 (ipykernel)",
      "language": "python",
      "name": "python3"
    },
    "language_info": {
      "codemirror_mode": {
        "name": "ipython",
        "version": 3
      },
      "file_extension": ".py",
      "mimetype": "text/x-python",
      "name": "python",
      "nbconvert_exporter": "python",
      "pygments_lexer": "ipython3",
      "version": "3.11.7"
    },
    "colab": {
      "provenance": [],
      "include_colab_link": true
    }
  },
  "nbformat": 4,
  "nbformat_minor": 5
}
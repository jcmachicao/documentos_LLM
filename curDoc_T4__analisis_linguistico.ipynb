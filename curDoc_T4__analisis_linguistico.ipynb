{
  "nbformat": 4,
  "nbformat_minor": 0,
  "metadata": {
    "colab": {
      "provenance": [],
      "authorship_tag": "ABX9TyMsqE8nsc4Hg1vgMrW7yGrF",
      "include_colab_link": true
    },
    "kernelspec": {
      "name": "python3",
      "display_name": "Python 3"
    },
    "language_info": {
      "name": "python"
    }
  },
  "cells": [
    {
      "cell_type": "markdown",
      "metadata": {
        "id": "view-in-github",
        "colab_type": "text"
      },
      "source": [
        "<a href=\"https://colab.research.google.com/github/jcmachicao/documentos_LLM/blob/main/curDoc__analisis_linguistico.ipynb\" target=\"_parent\"><img src=\"https://colab.research.google.com/assets/colab-badge.svg\" alt=\"Open In Colab\"/></a>"
      ]
    },
    {
      "cell_type": "code",
      "source": [
        "import spacy\n",
        "import re\n",
        "from collections import Counter"
      ],
      "metadata": {
        "id": "aQiGHrv3XQlA"
      },
      "execution_count": null,
      "outputs": []
    },
    {
      "cell_type": "code",
      "source": [
        "texto = \"\"\"\n",
        "Poner aqui el texto para analizar\n",
        "\"\"\""
      ],
      "metadata": {
        "id": "BqhlmcdEXzcv"
      },
      "execution_count": null,
      "outputs": []
    },
    {
      "cell_type": "code",
      "source": [
        "from os import read\n",
        "with open('texto.txt', 'r', encoding='utf-8') as archivo:\n",
        "  texto = read(archivo)"
      ],
      "metadata": {
        "id": "oTWZHgASX0VV"
      },
      "execution_count": null,
      "outputs": []
    },
    {
      "cell_type": "code",
      "source": [
        "nlp = spacy.load(\"es_core_news_sm\")\n",
        "doc = nlp(texto)"
      ],
      "metadata": {
        "id": "alZhczBmXQia"
      },
      "execution_count": null,
      "outputs": []
    },
    {
      "cell_type": "code",
      "execution_count": null,
      "metadata": {
        "id": "3Vl8CUFIXOn1"
      },
      "outputs": [],
      "source": [
        "# Análisis de complejidad de oraciones\n",
        "def analizar_complejidad_oracion(oracion):\n",
        "    return {\n",
        "        \"longitud\": len(oracion),\n",
        "        \"num_palabras\": len([token for token in oracion if not token.is_punct]),\n",
        "        \"num_verbos\": len([token for token in oracion if token.pos_ == \"VERB\"]),\n",
        "        \"num_sustantivos\": len([token for token in oracion if token.pos_ == \"NOUN\"]),\n",
        "        \"num_adjetivos\": len([token for token in oracion if token.pos_ == \"ADJ\"])\n",
        "    }\n",
        "\n",
        "# Identificar palabras clave (excluyendo stopwords y puntuación)\n",
        "def identificar_palabras_clave(doc, n=10):\n",
        "    palabras = [token.lemma_.lower() for token in doc if not token.is_stop and not token.is_punct]\n",
        "    return Counter(palabras).most_common(n)\n",
        "\n",
        "# Identificar marcadores discursivos\n",
        "marcadores_discursivos = {\n",
        "    \"contraste\": [\"sin embargo\", \"no obstante\", \"por otro lado\"],\n",
        "    \"causa_efecto\": [\"por lo tanto\", \"en consecuencia\", \"como resultado\"],\n",
        "    \"adición\": [\"además\", \"asimismo\", \"también\"],\n",
        "    \"conclusión\": [\"en conclusión\", \"finalmente\", \"en resumen\"]\n",
        "}\n",
        "\n",
        "def identificar_marcadores(oracion):\n",
        "    texto_oracion = oracion.text.lower()\n",
        "    marcadores_encontrados = []\n",
        "    for tipo, marcadores in marcadores_discursivos.items():\n",
        "        for marcador in marcadores:\n",
        "            if marcador in texto_oracion:\n",
        "                marcadores_encontrados.append((tipo, marcador))\n",
        "    return marcadores_encontrados\n",
        "\n",
        "# Análisis de oraciones\n",
        "analisis_oraciones = []\n",
        "for sent in doc.sents:\n",
        "    analisis = analizar_complejidad_oracion(sent)\n",
        "    analisis[\"marcadores\"] = identificar_marcadores(sent)\n",
        "    analisis_oraciones.append(analisis)"
      ]
    },
    {
      "cell_type": "code",
      "source": [
        "# Imprimir resultados\n",
        "print(\"Análisis de complejidad de oraciones:\")\n",
        "for i, analisis in enumerate(analisis_oraciones, 1):\n",
        "    print(f\"Oración {i}:\")\n",
        "    print(f\"  Longitud: {analisis['longitud']}\")\n",
        "    print(f\"  Número de palabras: {analisis['num_palabras']}\")\n",
        "    print(f\"  Número de verbos: {analisis['num_verbos']}\")\n",
        "    print(f\"  Número de sustantivos: {analisis['num_sustantivos']}\")\n",
        "    print(f\"  Número de adjetivos: {analisis['num_adjetivos']}\")\n",
        "    print(f\"  Marcadores discursivos: {analisis['marcadores']}\")\n",
        "    print()"
      ],
      "metadata": {
        "id": "nkXEhF1WXjU5"
      },
      "execution_count": null,
      "outputs": []
    },
    {
      "cell_type": "code",
      "source": [
        "print(\"Palabras clave más frecuentes:\")\n",
        "for palabra, frecuencia in identificar_palabras_clave(doc):\n",
        "    print(f\"  {palabra}: {frecuencia}\")"
      ],
      "metadata": {
        "id": "asdX_-B7Xn3S"
      },
      "execution_count": null,
      "outputs": []
    },
    {
      "cell_type": "code",
      "source": [
        "# Análisis de preguntas retóricas\n",
        "preguntas_retoricas = [sent for sent in doc.sents if sent.text.strip().endswith(\"?\")]\n",
        "print(f\"\\nNúmero de preguntas retóricas: {len(preguntas_retoricas)}\")"
      ],
      "metadata": {
        "id": "Dw6j-NrXXn00"
      },
      "execution_count": null,
      "outputs": []
    }
  ]
}
